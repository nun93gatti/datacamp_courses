{
 "cells": [
  {
   "cell_type": "code",
   "execution_count": 3,
   "metadata": {},
   "outputs": [
    {
     "data": {
      "text/plain": [
       "'gnirts'"
      ]
     },
     "execution_count": 3,
     "metadata": {},
     "output_type": "execute_result"
    }
   ],
   "source": [
    "#reverse string\n",
    "alfa = 'string'\n",
    "alfa[::-1]"
   ]
  },
  {
   "cell_type": "markdown",
   "metadata": {},
   "source": [
    "# Simple Regular expressions"
   ]
  },
  {
   "cell_type": "markdown",
   "metadata": {},
   "source": [
    "\\d : digit\n",
    "\n",
    "\\s : whitespace\n",
    "\n",
    "\\  : word_character\n",
    "\n",
    "{3:10} : the characater on immediately to the left should appear between 3 and 10 times "
   ]
  },
  {
   "cell_type": "code",
   "execution_count": 6,
   "metadata": {},
   "outputs": [
    {
     "data": {
      "text/plain": [
       "['movies']"
      ]
     },
     "execution_count": 6,
     "metadata": {},
     "output_type": "execute_result"
    }
   ],
   "source": [
    "import re \n",
    "\n",
    "re.findall(r\"movies\", 'I love italian movies')"
   ]
  },
  {
   "cell_type": "code",
   "execution_count": 9,
   "metadata": {},
   "outputs": [
    {
     "data": {
      "text/plain": [
       "['I love italian ', '']"
      ]
     },
     "execution_count": 9,
     "metadata": {},
     "output_type": "execute_result"
    }
   ],
   "source": [
    "re.split(r\"movies\", 'I love italian movies')"
   ]
  },
  {
   "cell_type": "code",
   "execution_count": 10,
   "metadata": {},
   "outputs": [
    {
     "data": {
      "text/plain": [
       "'I love italian food'"
      ]
     },
     "execution_count": 10,
     "metadata": {},
     "output_type": "execute_result"
    }
   ],
   "source": [
    "re.sub(r\"movies\", 'food', 'I love italian movies')"
   ]
  },
  {
   "cell_type": "code",
   "execution_count": 14,
   "metadata": {},
   "outputs": [
    {
     "data": {
      "text/plain": [
       "['nick9', 'nick1']"
      ]
     },
     "execution_count": 14,
     "metadata": {},
     "output_type": "execute_result"
    }
   ],
   "source": [
    "#small d : digit\n",
    "re.findall(r\"nick\\d\", 'My nicknames are nick9 nick_ nick1 ')"
   ]
  },
  {
   "cell_type": "code",
   "execution_count": 15,
   "metadata": {},
   "outputs": [
    {
     "data": {
      "text/plain": [
       "['nickn', 'nick_']"
      ]
     },
     "execution_count": 15,
     "metadata": {},
     "output_type": "execute_result"
    }
   ],
   "source": [
    "#capital D : non digit\n",
    "re.findall(r\"nick\\D\", 'My nicknames are nick9 nick_ nick1 ')"
   ]
  },
  {
   "cell_type": "code",
   "execution_count": 16,
   "metadata": {},
   "outputs": [
    {
     "data": {
      "text/plain": [
       "['nickn', 'nick9', 'nick_', 'nick1']"
      ]
     },
     "execution_count": 16,
     "metadata": {},
     "output_type": "execute_result"
    }
   ],
   "source": [
    "#small w : word\n",
    "re.findall(r\"nick\\w\", 'My nicknames are nick9 nick_ nick1 ')"
   ]
  },
  {
   "cell_type": "code",
   "execution_count": 20,
   "metadata": {},
   "outputs": [
    {
     "data": {
      "text/plain": [
       "['£2']"
      ]
     },
     "execution_count": 20,
     "metadata": {},
     "output_type": "execute_result"
    }
   ],
   "source": [
    "#small w : word char\n",
    "#capital W : non-word char\n",
    "# \\W\\d a non word char followed by a digit\n",
    "re.findall(r\"\\W\\d\", 'My shirt is on £sale, only £2 pound !! ')"
   ]
  },
  {
   "cell_type": "code",
   "execution_count": 21,
   "metadata": {},
   "outputs": [
    {
     "data": {
      "text/plain": [
       "['2 p']"
      ]
     },
     "execution_count": 21,
     "metadata": {},
     "output_type": "execute_result"
    }
   ],
   "source": [
    "#\\s : whitespace\n",
    "re.findall(r\"\\d\\s\\w\", 'My shirt is on £sale, only £2 pound !! ')"
   ]
  },
  {
   "cell_type": "code",
   "execution_count": 22,
   "metadata": {},
   "outputs": [
    {
     "data": {
      "text/plain": [
       "[' £2']"
      ]
     },
     "execution_count": 22,
     "metadata": {},
     "output_type": "execute_result"
    }
   ],
   "source": [
    "#\\S : non whitespace\n",
    "re.findall(r\"\\W\\S\\d\", 'My shirt is on £sale, only £2 pound !! ')sent"
   ]
  },
  {
   "cell_type": "code",
   "execution_count": 24,
   "metadata": {},
   "outputs": [
    {
     "data": {
      "text/plain": [
       "'Today I am very happy'"
      ]
     },
     "execution_count": 24,
     "metadata": {},
     "output_type": "execute_result"
    }
   ],
   "source": [
    "#To replace \n",
    "re.sub(r\"#\",\"\", \"Today #I am #very# happy\")"
   ]
  },
  {
   "cell_type": "markdown",
   "metadata": {},
   "source": [
    "# Match repeated characters"
   ]
  },
  {
   "cell_type": "code",
   "execution_count": null,
   "metadata": {},
   "outputs": [],
   "source": [
    "quantifiers : \n",
    "    \n",
    "{n} how many times the char immediately on the left should appear\n",
    "\n",
    "+ the char immediately on the left should appear 1 or more times \n",
    "\n",
    "* the char immediately on the left should appear 0 or more times \n",
    "\n",
    "? the char immediately on the left should appear 0 or more times "
   ]
  },
  {
   "cell_type": "code",
   "execution_count": 29,
   "metadata": {},
   "outputs": [
    {
     "name": "stdout",
     "output_type": "stream",
     "text": [
      "['password1234']\n",
      "<re.Match object; span=(0, 12), match='password1234'>\n"
     ]
    }
   ],
   "source": [
    "password = \"password1234\"\n",
    "\n",
    "#using quantifiers \n",
    "\n",
    "print(re.findall(r\"\\w{8}\\d{4}\", password))\n",
    "\n",
    "print(re.search(r\"\\w{8}\\d{4}\", password))\n",
    "\n"
   ]
  },
  {
   "cell_type": "code",
   "execution_count": 36,
   "metadata": {},
   "outputs": [
    {
     "name": "stdout",
     "output_type": "stream",
     "text": [
      "['4-3', '10-04']\n",
      "['@amelia was', '@available @today', '@&&*']\n"
     ]
    }
   ],
   "source": [
    "text = \"4-3 asdasd , 10-04\"\n",
    "#multiple digits\n",
    "print(re.findall(r\"\\d+-\\d+\",text)) #  a char should appear 1 or more times\n",
    "\n",
    "text_1 = \"@amelia was not @available @today @&&*\"  #  a char should appear 0 or more times\n",
    "print(re.findall(r\"@\\w*\\W*\\w*\",text_1))"
   ]
  },
  {
   "cell_type": "code",
   "execution_count": 38,
   "metadata": {},
   "outputs": [
    {
     "data": {
      "text/plain": [
       "['color', 'colour']"
      ]
     },
     "execution_count": 38,
     "metadata": {},
     "output_type": "execute_result"
    }
   ],
   "source": [
    "text = 'getting differences betweeen color and colour'\n",
    "re.findall(r'colou?r',text)"
   ]
  },
  {
   "cell_type": "code",
   "execution_count": 43,
   "metadata": {},
   "outputs": [
    {
     "data": {
      "text/plain": [
       "['1-965-874-5214', '2-854-89-454511']"
      ]
     },
     "execution_count": 43,
     "metadata": {},
     "output_type": "execute_result"
    }
   ],
   "source": [
    "phone = \" 1-965-874-5214  2-854-89-454511\"\n",
    "\n",
    "re.findall(r\"\\d{1,2}-\\d{3}-\\d{2,3}-\\d{4,6}\",phone)"
   ]
  },
  {
   "cell_type": "markdown",
   "metadata": {},
   "source": [
    "# More metacharacters\n"
   ]
  },
  {
   "cell_type": "markdown",
   "metadata": {},
   "source": [
    "Two different operations to find a match: \n",
    "\n",
    "    re.search(r\"regex\", string)\n",
    "    \n",
    "    re.match(r\"regex\",string)\n",
    "    \n",
    "the main difference is .match is anchored at the beginning of the string byt .search does not. It means that if the first character of the string doesn't match with the regex, nothing will be returned."
   ]
  },
  {
   "cell_type": "code",
   "execution_count": 51,
   "metadata": {},
   "outputs": [
    {
     "data": {
      "text/plain": [
       "['.google.']"
      ]
     },
     "execution_count": 51,
     "metadata": {},
     "output_type": "execute_result"
    }
   ],
   "source": [
    "# . match any character except newline\n",
    "\n",
    "ex = \"www.google.com\"\n",
    "re.findall(r'\\..+\\.',ex)"
   ]
  },
  {
   "cell_type": "code",
   "execution_count": 54,
   "metadata": {},
   "outputs": [
    {
     "name": "stdout",
     "output_type": "stream",
     "text": [
      "['the 80s', 'the 90s']\n",
      "['the 80s']\n"
     ]
    }
   ],
   "source": [
    "# the circumflex anchors the regex  to the start of the string\n",
    "ex_1 = \"the 80s good but the 90s better\"\n",
    "\n",
    "print(re.findall(r\"the\\s\\d{2}\\w\",ex_1))\n",
    "print(re.findall(r\"^the\\s\\d{2}\\w\",ex_1))"
   ]
  },
  {
   "cell_type": "code",
   "execution_count": 56,
   "metadata": {},
   "outputs": [
    {
     "name": "stdout",
     "output_type": "stream",
     "text": [
      "['the 80s', 'the 90s']\n",
      "['the 90s']\n"
     ]
    }
   ],
   "source": [
    "# the $ anchors the regex  to the end of the string\n",
    "ex_1 = \"the 80s good but the 90s\"\n",
    "\n",
    "print(re.findall(r\"the\\s\\d{2}\\w\",ex_1))\n",
    "print(re.findall(r\"the\\s\\d{2}\\w$\",ex_1))"
   ]
  },
  {
   "cell_type": "code",
   "execution_count": 60,
   "metadata": {},
   "outputs": [
    {
     "name": "stdout",
     "output_type": "stream",
     "text": [
      "['1', '.', 'd']\n",
      "['.']\n"
     ]
    }
   ],
   "source": [
    "# if you want to use special character as regex char just add backslash\n",
    "ex = '1.d'\n",
    "\n",
    "print(re.findall(r'.',ex))\n",
    "print(re.findall(r'\\.',ex))\n"
   ]
  },
  {
   "cell_type": "code",
   "execution_count": 63,
   "metadata": {},
   "outputs": [
    {
     "name": "stdout",
     "output_type": "stream",
     "text": [
      "['today', 'TODAY']\n",
      "['MaryJonh2', '3']\n"
     ]
    }
   ],
   "source": [
    "# OR operator  | or square brackets \n",
    "ex = \"today or TODAY\"\n",
    "\n",
    "ex_1 = \"MaryJonh2  3\"\n",
    "\n",
    "print(re.findall(r'today|TODAY',ex))\n",
    "print(re.findall(r'[a-zA-z]*\\d',ex_1))\n"
   ]
  },
  {
   "cell_type": "code",
   "execution_count": 70,
   "metadata": {},
   "outputs": [
    {
     "data": {
      "text/plain": [
       "[' ', ' 23']"
      ]
     },
     "execution_count": 70,
     "metadata": {},
     "output_type": "execute_result"
    }
   ],
   "source": [
    "# the circumflex transform the expression into brackets to negative\n",
    "ex = \"Today is 23\"\n",
    "\n",
    "re.findall(r'[^a-zA-Z]+',ex)"
   ]
  },
  {
   "cell_type": "markdown",
   "metadata": {},
   "source": [
    " # Greedy vs. non-greedy matching"
   ]
  },
  {
   "cell_type": "markdown",
   "metadata": {},
   "source": [
    "Two tipes of mathcing methods : \n",
    "\n",
    "    Greedy (the quantifiers learnd by far are greedy by definition)\n",
    "\n",
    "    Non-greedy or lazy (returns the shortest match)"
   ]
  },
  {
   "cell_type": "code",
   "execution_count": 71,
   "metadata": {},
   "outputs": [
    {
     "data": {
      "text/plain": [
       "<re.Match object; span=(0, 5), match='12345'>"
      ]
     },
     "execution_count": 71,
     "metadata": {},
     "output_type": "execute_result"
    }
   ],
   "source": [
    "re.match(r\"\\d+\", \"12345bcada\")  # greedy"
   ]
  },
  {
   "cell_type": "code",
   "execution_count": 73,
   "metadata": {},
   "outputs": [
    {
     "data": {
      "text/plain": [
       "<re.Match object; span=(0, 1), match='1'>"
      ]
     },
     "execution_count": 73,
     "metadata": {},
     "output_type": "execute_result"
    }
   ],
   "source": [
    "re.match(r\"\\d+?\", \"12345bcada\") # non greedy"
   ]
  },
  {
   "cell_type": "code",
   "execution_count": 77,
   "metadata": {},
   "outputs": [
    {
     "name": "stdout",
     "output_type": "stream",
     "text": [
      "I want to see that  again!\n",
      "I want to see that amazing show again!\n"
     ]
    }
   ],
   "source": [
    "#removing the tag from an hatml page\n",
    "ex = 'I want to see that <strong>amazing show</strong> again!'\n",
    "print(re.sub(r\"<.+>\", \"\", ex))\n",
    "print(re.sub(r\"<.+?>\", \"\", ex))"
   ]
  },
  {
   "cell_type": "code",
   "execution_count": 82,
   "metadata": {},
   "outputs": [
    {
     "name": "stdout",
     "output_type": "stream",
     "text": [
      "['(Lauren)']\n",
      "['(Lauren) the day before yesterday)']\n"
     ]
    }
   ],
   "source": [
    "ex = \"I met my daughter's son (Lauren) the day before yesterday)\"\n",
    "print(re.findall(r\"\\(.*?\\)\",ex))\n",
    "print(re.findall(r\"\\(.*\\)\",ex))"
   ]
  },
  {
   "cell_type": "markdown",
   "metadata": {},
   "source": [
    "# Capturing groups\n"
   ]
  },
  {
   "cell_type": "markdown",
   "metadata": {},
   "source": [
    "I.E. We want to extract information about a person, how many and which type of relationships they have "
   ]
  },
  {
   "cell_type": "code",
   "execution_count": 83,
   "metadata": {},
   "outputs": [],
   "source": [
    "text = \"\"\"Clary has 2 friends who she spends a lot time with. \n",
    "        Susan has 3 brothers while John has 4 sisters\"\"\""
   ]
  },
  {
   "cell_type": "code",
   "execution_count": 84,
   "metadata": {},
   "outputs": [],
   "source": [
    "#trying to extract just the names "
   ]
  },
  {
   "cell_type": "markdown",
   "metadata": {},
   "source": [
    "Use parentheses to group and capture characters together"
   ]
  },
  {
   "cell_type": "code",
   "execution_count": 92,
   "metadata": {},
   "outputs": [
    {
     "data": {
      "text/plain": [
       "[('Clary', '2', 'friends'),\n",
       " ('Susan', '3', 'brothers'),\n",
       " ('John', '4', 'sisters')]"
      ]
     },
     "execution_count": 92,
     "metadata": {},
     "output_type": "execute_result"
    }
   ],
   "source": [
    "#using the parenthesis just the elements that match the regex\n",
    "#inside those parenthesis are retrieved\n",
    "re.findall(r'([A-Za-z]+)\\s\\w+\\s(\\d+)\\s(\\w+)',text)"
   ]
  },
  {
   "cell_type": "markdown",
   "metadata": {},
   "source": [
    "N.B. each group is saved as a tuple in the list and so they have an index"
   ]
  },
  {
   "cell_type": "code",
   "execution_count": 101,
   "metadata": {},
   "outputs": [
    {
     "data": {
      "text/plain": [
       "<re.Match object; span=(0, 6), match='3e4r5f'>"
      ]
     },
     "execution_count": 101,
     "metadata": {},
     "output_type": "execute_result"
    }
   ],
   "source": [
    "#apply the plus to the group when it is repeated once or more times and we\n",
    "#want to retrieve them all\n",
    "\n",
    "re.search(r\"(\\d[A-Za-z])+\",\"3e4r5fg is the nickname\")"
   ]
  },
  {
   "cell_type": "markdown",
   "metadata": {},
   "source": [
    "Capture a repeated group (\\d+) vs repear a capturing group (\\d)+"
   ]
  },
  {
   "cell_type": "code",
   "execution_count": 104,
   "metadata": {},
   "outputs": [
    {
     "name": "stdout",
     "output_type": "stream",
     "text": [
      "['6', '2']\n",
      "['3456', '12']\n"
     ]
    }
   ],
   "source": [
    "ex = \"best numbers as 3456 and 12\"\n",
    "print(re.findall(r\"(\\d)+\", ex))\n",
    "\n",
    "print(re.findall(r\"(\\d+)\", ex))"
   ]
  },
  {
   "cell_type": "code",
   "execution_count": 111,
   "metadata": {},
   "outputs": [
    {
     "data": {
      "text/plain": [
       "['marysmith90', 'gmail', 'com']"
      ]
     },
     "execution_count": 111,
     "metadata": {},
     "output_type": "execute_result"
    }
   ],
   "source": [
    "re.findall(r\"[a-zA-Z0-9]+\",'marysmith90@gmail.com')"
   ]
  },
  {
   "cell_type": "code",
   "execution_count": 113,
   "metadata": {},
   "outputs": [
    {
     "data": {
      "text/plain": [
       "[('LA', '4214', 'AER', 'CDB', '06NOV')]"
      ]
     },
     "execution_count": 113,
     "metadata": {},
     "output_type": "execute_result"
    }
   ],
   "source": [
    "ex = \"Here you have your boarding pass LA4214 AER-CDB 06NOV\"\n",
    "\n",
    "# Write regex to capture information of the flight\n",
    "regex = r\"([A-Z]{2})(\\d{4})\\s([A-Z]{3})-([A-Z]{3})\\s(\\d{2}[A-Z]{3})\"\n",
    "\n",
    "# Find all matches of the flight information\n",
    "re.findall(regex, ex)"
   ]
  },
  {
   "cell_type": "markdown",
   "metadata": {},
   "source": [
    "# Alternation \n"
   ]
  },
  {
   "cell_type": "code",
   "execution_count": 120,
   "metadata": {},
   "outputs": [
    {
     "data": {
      "text/plain": [
       "['cat', 'dogs']"
      ]
     },
     "execution_count": 120,
     "metadata": {},
     "output_type": "execute_result"
    }
   ],
   "source": [
    "# just getting the animal name that follow a number \n",
    "ex = \"I want to have 1 cat I have 2 dogs or some birds\"\n",
    "re.findall(r\"\\d+\\s(cat|dogs|birds)\",ex)"
   ]
  },
  {
   "cell_type": "code",
   "execution_count": 123,
   "metadata": {},
   "outputs": [
    {
     "data": {
      "text/plain": [
       "[('1', 'cat'), ('2', 'dogs')]"
      ]
     },
     "execution_count": 123,
     "metadata": {},
     "output_type": "execute_result"
    }
   ],
   "source": [
    "# getting the animal name and the number that follow a number \n",
    "ex = \"I want to have 1 cat I have 2 dogs or some birds\"\n",
    "re.findall(r\"(\\d+)\\s(cat|dogs|birds)\",ex)"
   ]
  },
  {
   "cell_type": "markdown",
   "metadata": {},
   "source": [
    "# Non-capturing groups"
   ]
  },
  {
   "cell_type": "markdown",
   "metadata": {},
   "source": [
    "Match but not capture group"
   ]
  },
  {
   "cell_type": "code",
   "execution_count": 131,
   "metadata": {},
   "outputs": [
    {
     "data": {
      "text/plain": [
       "['032-977', '659-771']"
      ]
     },
     "execution_count": 131,
     "metadata": {},
     "output_type": "execute_result"
    }
   ],
   "source": [
    "# inside the group () add ?:\n",
    "ex = \"Jonh : 34-35-38-032-977 Nunzio : 21-98-74-659-771\"\n",
    "re.findall(r\"(?:\\d{2}-){3}(\\d{3}-\\d{3})\",ex)"
   ]
  },
  {
   "cell_type": "code",
   "execution_count": 134,
   "metadata": {},
   "outputs": [
    {
     "data": {
      "text/plain": [
       "['23', '24']"
      ]
     },
     "execution_count": 134,
     "metadata": {},
     "output_type": "execute_result"
    }
   ],
   "source": [
    "my_date = \"Today is 23rd May 2019. Tomorrow is 24th May 19\"\n",
    "re.findall(r\"(\\d+)(?:th|rd)\",my_date)"
   ]
  },
  {
   "cell_type": "code",
   "execution_count": 139,
   "metadata": {},
   "outputs": [
    {
     "name": "stdout",
     "output_type": "stream",
     "text": [
      "Positive comments found [('love', 'concert', 'The Book of Souls World Tour')]\n",
      "Positive comments found [('enjoy', 'movie', 'Wreck-It Ralph')]\n",
      "Positive comments found [('like', 'movie', 'Wish Upon a Star')]\n",
      "Negatvie commentsfound [('hate', 'The Book of Souls World Tour')]\n",
      "Negatvie commentsfound [('dislike', 'Wreck-It Ralph')]\n",
      "Negatvie commentsfound [('vomit', 'Wish Upon a Star')]\n"
     ]
    }
   ],
   "source": [
    "text_pos = [\"\"\"I totally love the concert The Book of Souls World Tour. \n",
    "        It kinda amazing!\"\"\", \"\"\"I enjoy the movie Wreck-It Ralph. \n",
    "        I watched with my boyfriend.\"\"\", \n",
    "        \"\"\"I still like the movie Wish Upon a Star. \n",
    "        Too bad Disney doesn't show it anymore.\"\"\"]\n",
    "\n",
    "text_neg = [\"\"\"I totally hate the concert The Book of Souls World Tour. \n",
    "        It kinda amazing!\"\"\", \"\"\"I dislike the movie Wreck-It Ralph. \n",
    "        I watched with my boyfriend.\"\"\", \n",
    "        \"\"\"I still vomit watching the movie Wish Upon a Star. \n",
    "        Too bad Disney doesn't show it anymore.\"\"\"]\n",
    "\n",
    "regex_positive = r\"(love|like|enjoy).+?(movie|concert)\\s(.+?)\\.\"\n",
    "regex_neg = r\"(hate|dislike|vomit).+?(?:movie|concert)\\s(.+?)\\.\"\n",
    "\n",
    "\n",
    "for tweet in text_pos:\n",
    "    # Find all matches of regex in tweet\n",
    "    positive_matches = re.findall(regex_positive,tweet)\n",
    "    \n",
    "    # Complete format to print out the results\n",
    "    print(\"Positive comments found {}\".format(positive_matches))\n",
    "    \n",
    "for tweet in text_neg:\n",
    "    # Find all matches of regex in tweet\n",
    "    neg_matches = re.findall(regex_neg,tweet)\n",
    "    \n",
    "    # Complete format to print out the results\n",
    "    print(\"Negatvie commentsfound {}\".format(neg_matches))"
   ]
  },
  {
   "cell_type": "markdown",
   "metadata": {},
   "source": [
    "# BackReferences"
   ]
  },
  {
   "cell_type": "code",
   "execution_count": 154,
   "metadata": {},
   "outputs": [],
   "source": [
    "#Assign an identifier to a group"
   ]
  },
  {
   "cell_type": "code",
   "execution_count": 153,
   "metadata": {},
   "outputs": [
    {
     "data": {
      "text/plain": [
       "'Austin'"
      ]
     },
     "execution_count": 153,
     "metadata": {},
     "output_type": "execute_result"
    }
   ],
   "source": [
    "ex = \"Austin 78701\"\n",
    "cities = re.search(r\"(?P<city_name>\\w+).*?(?P<zipcode>\\d{5})\", ex)\n",
    "cities.group('city_name')"
   ]
  },
  {
   "cell_type": "code",
   "execution_count": 157,
   "metadata": {},
   "outputs": [
    {
     "data": {
      "text/plain": [
       "'happy bday'"
      ]
     },
     "execution_count": 157,
     "metadata": {},
     "output_type": "execute_result"
    }
   ],
   "source": [
    "sentence = \"happy happy bday\"\n",
    "re.sub(r\"(\\w+)\\s\\1\",r\"\\1\",sentence)"
   ]
  },
  {
   "cell_type": "code",
   "execution_count": 162,
   "metadata": {},
   "outputs": [
    {
     "data": {
      "text/plain": [
       "\"This app is not working! It's repeating the last word.\""
      ]
     },
     "execution_count": 162,
     "metadata": {},
     "output_type": "execute_result"
    }
   ],
   "source": [
    "\n",
    "sentence = \"This app is not working working! It's repeating the last word word.\"\n",
    "re.sub(r\"(?P<word>\\w+)\\s(?P=word)\", r\"\\g<word>\",sentence)"
   ]
  },
  {
   "cell_type": "code",
   "execution_count": 164,
   "metadata": {},
   "outputs": [
    {
     "name": "stdout",
     "output_type": "stream",
     "text": [
      "Our first contract is dated back to 2016. Particularly, \n",
      "      the day 24 of the month 05.\n"
     ]
    }
   ],
   "source": [
    "contract = \"Signed on 05/24/2016\"\n",
    "\n",
    "# Write regex and scan contract to capture the dates described\n",
    "regex_dates = r\"Signed\\son\\s(?P<month>\\d{2})/(?P<day>\\d{2})/(?P<year>\\d{4})\"\n",
    "dates = re.search(regex_dates, contract)\n",
    "\n",
    "# Assign to each key the corresponding match\n",
    "signature = {\n",
    "    \"day\": dates.group('day'),\n",
    "    \"month\": dates.group('month'),\n",
    "    \"year\": dates.group('year')\n",
    "}\n",
    "\n",
    "# Complete the format method to print-out\n",
    "print(\"\"\"Our first contract is dated back to {data[year]}. Particularly, \n",
    "      the day {data[day]} of the month {data[month]}.\"\"\".format(data=signature))"
   ]
  },
  {
   "cell_type": "code",
   "execution_count": 179,
   "metadata": {},
   "outputs": [
    {
     "name": "stdout",
     "output_type": "stream",
     "text": [
      "poooooooooooolo\n",
      "<re.Match object; span=(0, 11), match='today today'>\n"
     ]
    }
   ],
   "source": [
    "#When used in regex like (a|b)\\1, it means that after a or b, \n",
    "#the next character should be the first captured group, which \n",
    "#is a or b so the regex here would match aa or bb\n",
    "\n",
    "\n",
    "# Complete the regex to match an elongated word\n",
    "regex_elongated = r\"\\w*(\\w)\\1\\w*\"\n",
    "print(re.search(regex_elongated,\"polo poooooooooooolo\").group(0))\n",
    "\n",
    "# to check a repetition word \n",
    "s = \"today today bday today bday\"\n",
    "word_repeated_reg = r\"(\\w+)\\s\\1\"\n",
    "print(re.search(word_repeated_reg,s))"
   ]
  },
  {
   "cell_type": "markdown",
   "metadata": {},
   "source": [
    "# Look-ahead"
   ]
  },
  {
   "cell_type": "markdown",
   "metadata": {},
   "source": [
    "Allow us to confirm that sub-pattern is ahead or behind main pattern"
   ]
  },
  {
   "cell_type": "markdown",
   "metadata": {},
   "source": [
    "positive (?= word) \n",
    "\n",
    "negative (?! word)"
   ]
  },
  {
   "cell_type": "markdown",
   "metadata": {},
   "source": [
    "Positive Look-ahead"
   ]
  },
  {
   "cell_type": "code",
   "execution_count": 185,
   "metadata": {},
   "outputs": [
    {
     "data": {
      "text/plain": [
       "['tweet.txt', 'file.txt']"
      ]
     },
     "execution_count": 185,
     "metadata": {},
     "output_type": "execute_result"
    }
   ],
   "source": [
    "ex = \"tweet.txt transferred file.txt transferred wrong.txt error\"\n",
    "re.findall(r\"\\w+\\.txt(?=\\stransferred)\",ex)"
   ]
  },
  {
   "cell_type": "markdown",
   "metadata": {},
   "source": [
    "Negative Look-ahead"
   ]
  },
  {
   "cell_type": "code",
   "execution_count": 186,
   "metadata": {},
   "outputs": [
    {
     "data": {
      "text/plain": [
       "['wrong.txt']"
      ]
     },
     "execution_count": 186,
     "metadata": {},
     "output_type": "execute_result"
    }
   ],
   "source": [
    "ex = \"tweet.txt transferred file.txt transferred wrong.txt error\"\n",
    "re.findall(r\"\\w+\\.txt(?!\\stransferred)\",ex)"
   ]
  },
  {
   "cell_type": "markdown",
   "metadata": {},
   "source": [
    "# Look-Behind"
   ]
  },
  {
   "cell_type": "markdown",
   "metadata": {},
   "source": [
    "positive (?<= word)\n",
    "\n",
    "negative (?<! word)"
   ]
  },
  {
   "cell_type": "code",
   "execution_count": 197,
   "metadata": {},
   "outputs": [
    {
     "data": {
      "text/plain": [
       "['wrong.jpg']"
      ]
     },
     "execution_count": 197,
     "metadata": {},
     "output_type": "execute_result"
    }
   ],
   "source": [
    "ex = \"transferred tweet.txt transferred file.txt transferred wrong.jpg \"\n",
    "re.findall(r\"(?<=transferred\\s)\\w+\\.jpg\",ex)"
   ]
  },
  {
   "cell_type": "code",
   "execution_count": 203,
   "metadata": {},
   "outputs": [
    {
     "name": "stdout",
     "output_type": "stream",
     "text": [
      "['skills']\n"
     ]
    }
   ],
   "source": [
    "sentiment_analysis = \"You need excellent python skills to be a data scientist. Must be! Excellent python\"\n",
    "look_behind = re.findall(r\"(?<=[Pp]ython\\s)\\w+\",sentiment_analysis)\n",
    "\n",
    "# Print out\n",
    "print(look_behind)"
   ]
  },
  {
   "cell_type": "code",
   "execution_count": 202,
   "metadata": {},
   "outputs": [
    {
     "data": {
      "text/plain": [
       "['wrong.jpg']"
      ]
     },
     "execution_count": 202,
     "metadata": {},
     "output_type": "execute_result"
    }
   ],
   "source": [
    "ex = \"transferred tweet.txt transferred file.txt transferred wrong.jpg \"\n",
    "re.findall(r\"(?<!transferred)\\w+\\.jpg\",ex)"
   ]
  },
  {
   "cell_type": "code",
   "execution_count": 208,
   "metadata": {},
   "outputs": [
    {
     "name": "stdout",
     "output_type": "stream",
     "text": [
      "[]\n",
      "['9214-219388-05']\n",
      "[]\n",
      "[]\n"
     ]
    }
   ],
   "source": [
    "cellphones = ['654-8764-439434-01' , '9214-219388-05', '612-9004-439344-01' , '314-8764-439434-01']\n",
    "\n",
    "for phone in cellphones:\n",
    "    # Get all phone numbers not preceded by area code\n",
    "    number = re.findall(r\"(?<!\\d{3}-)\\d{4}-\\d{6}-\\d{2}\", phone)\n",
    "    print(number)"
   ]
  },
  {
   "cell_type": "code",
   "execution_count": null,
   "metadata": {},
   "outputs": [],
   "source": []
  }
 ],
 "metadata": {
  "kernelspec": {
   "display_name": "Python 3",
   "language": "python",
   "name": "python3"
  },
  "language_info": {
   "codemirror_mode": {
    "name": "ipython",
    "version": 3
   },
   "file_extension": ".py",
   "mimetype": "text/x-python",
   "name": "python",
   "nbconvert_exporter": "python",
   "pygments_lexer": "ipython3",
   "version": "3.7.3"
  }
 },
 "nbformat": 4,
 "nbformat_minor": 2
}
